{
  "cells": [
    {
      "cell_type": "markdown",
      "source": [
        "#Guardado en Drive"
      ],
      "metadata": {
        "id": "6Gbc7cysBRhV"
      }
    },
    {
      "cell_type": "code",
      "execution_count": null,
      "metadata": {
        "colab": {
          "base_uri": "https://localhost:8080/"
        },
        "id": "N7E0NqARslPV",
        "outputId": "23c3c7b7-8f65-443a-8cc7-52e605168d35"
      },
      "outputs": [
        {
          "output_type": "stream",
          "name": "stdout",
          "text": [
            "Drive already mounted at /content/drive; to attempt to forcibly remount, call drive.mount(\"/content/drive\", force_remount=True).\n"
          ]
        }
      ],
      "source": [
        "from google.colab import drive\n",
        "drive.mount('/content/drive')"
      ]
    },
    {
      "cell_type": "markdown",
      "source": [
        "#Prueba de programación\n"
      ],
      "metadata": {
        "id": "S9KjUirnBOpP"
      }
    },
    {
      "cell_type": "code",
      "execution_count": null,
      "metadata": {
        "colab": {
          "base_uri": "https://localhost:8080/"
        },
        "id": "TogRMdWEja3M",
        "outputId": "46772bfd-5b74-4719-f218-606237de33a8"
      },
      "outputs": [
        {
          "output_type": "stream",
          "name": "stdout",
          "text": [
            "Longitud de la secuencia: 1000\n",
            "\n",
            "Secuencia en formato FASTA:\n",
            "   1 TGTTGAGCATTGACAGGCAAGGCCCACGTTGAGATTACGGCCAACAGCATCCAGATTTACCAGCACTTAAACATAAAACCTTCCGGTGGTAAACGAAAGT\n",
            " 101 CTTTATAACTGACCGATAGGAGTTCTGTCCCCGCCTTTCACTGTCATCCTTAAAGATGACTTTGCCGTAGGGATCGGCTAACCTGCGCGTCGGCTTTGGA\n",
            " 201 TTGGTACACCGCCGAGGAATCCTACTTCACTTGCACCTTGTCCGTAAGTTCACGCCGGGCTAAGGTCTTGCCGCCTCATTGTATCGAATCCGGTTCGCGC\n",
            " 301 GTTCGGCCCAGAACCGCGGGCCACCCCTCTACTTGCCGGAGAAGTCCTGTGCAAGATTGAGTCAAAATGGGGCTGTTATCTGCCTTTAAGGTGCAGATAG\n",
            " 401 TTCTCCTATAGTGCTTGTAATATCTGAGCGGAAGAAACCGTCCCACCGCATATCTCCACAAGCGCTTACTTCACGTGTAATTGGCGACCAATAACGTACC\n",
            " 501 CCACCGAGACGACCGCGCCTCACCCAAACGGTCACCCGTTGCTTCCTTTGCAGTAAAGGTCGACTCTGTCATAGGGGATCGGTAGTTTTATCACGTCAAC\n",
            " 601 TTTAAGATCTGACCCCAGTATCTACCCGTCTTTAGGCGTCTGCAAGGCCACTGCCCCGAGCATTGGATCACGGGCTAGACGCTTAAGAAAAGTAATCGCC\n",
            " 701 TCCGAATCTGATGTGGCCCCGCCATAGTTTGAGCCATAATTTTGTCGCCTATTCTAGGCTAGCAGTGTACTTTGGTGCGTTTTACAGCGCATAATTATGA\n",
            " 801 ATTCGCTTGATCCGGCATTTGGTTTGACCCTCGGGTTGGGAACAACGGGGGGTGCGGTACCCGTGCTGCTATTAATATTCGGGAACGTAAATTACGACAC\n",
            " 901 GTGCTGAACAGGATCTCTCTAACAGTTAGCATCGAATCAGCACTGTAGGGAGGACACGAGACCTGGGTTGCAATCGCCCGCCAATCGTCCCGTAATGAGT\n",
            "\n",
            "Kmer Buscado: GATA\n",
            "Número de repeticiones: 2\n",
            "Posiciones: [114, 395]\n"
          ]
        }
      ],
      "source": [
        "#Importar el módulo random\n",
        "import random\n",
        "\n",
        "#Ingresar la longitud deseada para la secuencia de ADN\n",
        "length = int(input(\"Longitud de la secuencia: \"))\n",
        "\n",
        "#Define la función que genera la secuencia de ADN aleatoria\n",
        "def generate_sequence(length):\n",
        "    seq = \"\".join(random.choice(\"ATGC\") for _ in range(length))\n",
        "\n",
        "    #Generar la secuencia en formato FASTA con filas de 100 caracteres\n",
        "    fasta_seq = \"\"\n",
        "    for i in range(0, len(seq), 100):\n",
        "\n",
        "        #Agregar el número inicial de cada fila\n",
        "        fasta_seq += f\"{i+1:>{len(str(length))}} {seq[i:i+100]}\\n\"\n",
        "\n",
        "    print(\"\\nSecuencia en formato FASTA:\")\n",
        "    print(fasta_seq)\n",
        "\n",
        "    #Solicitar el Kmer que desea buscar en la secuencia de ADN.\n",
        "    kmer_4 = input(\"Kmer Buscado: \")\n",
        "\n",
        "    #Calcula y almacena la longitud de la secuencia generada\n",
        "    len_seq = len(seq)\n",
        "    #Cuenta el número de repeticiones\n",
        "    count = seq.count(kmer_4)\n",
        "    #Crea una lista vacía para almacenar las posiciones desde 0\n",
        "    positions = []\n",
        "\n",
        "    start = 0\n",
        "\n",
        "    #Inicia un bucle infinito\n",
        "    while True:\n",
        "        index = seq.find(kmer_4, start)\n",
        "\n",
        "        #Si el índice es -1, significa que no se encontró ninguna ocurrencia\n",
        "        if index == -1:\n",
        "            break\n",
        "        positions.append(index)\n",
        "\n",
        "        #Actualiza el valor de start para buscar la siguiente ocurrencia a partir de la posición después de la ocurrencia actual.\n",
        "        start = index + len(kmer_4)\n",
        "\n",
        "    print(\"Número de repeticiones:\", count)\n",
        "    print(\"Posiciones:\", positions)\n",
        "\n",
        "#Llamar a la función para generar y analizar la secuencia de ADN\n",
        "generate_sequence(length)\n"
      ]
    },
    {
      "cell_type": "markdown",
      "source": [
        "#Generación de Secuencias DNA-Proteína"
      ],
      "metadata": {
        "id": "0_EICD7_BaFR"
      }
    },
    {
      "cell_type": "code",
      "execution_count": null,
      "metadata": {
        "colab": {
          "base_uri": "https://localhost:8080/"
        },
        "id": "PYFYVkLFETf3",
        "outputId": "2b18dad5-eb66-4dbd-81e8-85454be54c22"
      },
      "outputs": [
        {
          "output_type": "stream",
          "name": "stdout",
          "text": [
            "longitud de la secuencia de ADN: 30000000\n",
            "30000000\n",
            "10000000\n"
          ]
        }
      ],
      "source": [
        "#Importar el módulo random para generar números aleatorios\n",
        "import random\n",
        "\n",
        "#Definir nucleotidos para secuencia aleatoria\n",
        "nucleotides=['T', 'C', 'A', 'G']\n",
        "#Define the starts and stop codons\n",
        "Start_codon=['ATG']\n",
        "Stop_codons=['TAA', 'TAG','TGA']\n",
        "\n",
        "#Generar longitud deseada de la secuencia\n",
        "longitud = int(input(\"longitud de la secuencia de ADN: \"))\n",
        "\n",
        "#Crear secuencia de ADN aleatoria\n",
        "secuencia_adn = ''.join(random.choice(nucleotides) for _ in range(longitud))\n",
        "\n",
        "#Definir tabla de traducción del codigo genetico\n",
        "genetic_code ={\n",
        "  # U            C            A            G\n",
        "\n",
        "#U\n",
        "  'TTT':'F', 'TCT':'S', 'TAT':'Y', 'TGU':'C', #UxU\n",
        "  'TTC':'F', 'TCC':'S', 'TAC':'Y', 'TGC':'C', #UxC\n",
        "  'TTA':'L', 'TCA':'S', 'TAA':'-', 'TGA':'-', #UxA\n",
        "  'TTG':'L', 'TCG':'S', 'TAG':'-', 'TGG':'W', #UxG\n",
        "#C\n",
        "  'CTT':'L', 'CCT':'P', 'CAT':'H', 'CGT':'R', #CxU\n",
        "  'CTC':'L', 'CCC':'P', 'CAC':'H', 'CGC':'R', #CxC\n",
        "  'CTA':'L', 'CCA':'P', 'CAA':'Q', 'CGA':'R', #CxA\n",
        "  'CTG':'L', 'CCG':'P', 'CAG':'Q', 'CGG':'R', #CxG\n",
        "#A\n",
        "  'ATT':'I', 'ACU':'T', 'AAT':'N', 'AGT':'S', #AxU\n",
        "  'ATC':'I', 'ACC':'T', 'AAC':'N', 'AGC':'S', #AxC\n",
        "  'ATA':'I', 'ACA':'T', 'AAA':'K', 'AGA':'R', #AXA\n",
        "  'ATG':'M', 'ACG':'T', 'AAG':'K', 'AGG':'R', #AxG\n",
        "#G\n",
        "  'GTT':'V', 'GCT':'A', 'GAT':'D', 'GGT':'G', #GxU\n",
        "  'GTC':'V', 'GCC':'A', 'GAC':'D', 'GGC':'G', #GxC\n",
        "  'GTA':'V', 'GCA':'A', 'GAA':'E', 'GGA':'G', #GxA\n",
        "  'GTG':'V', 'GCG':'A', 'GAG':'E', 'GGG':'G', #GxG\n",
        "}\n",
        "\n",
        "#Tradu decir secuencia de ADN a proteínas\n",
        "secuencia_proteinas = ''\n",
        "i = 0\n",
        "\n",
        "#Bucle para recorrer los codones en la secuencia de ADN\n",
        "while i < len(secuencia_adn) - 2:\n",
        "    codon = secuencia_adn[i:i+3]\n",
        "    aminoacido = genetic_code.get(codon, 'X') #Busca el aminoácido correspondiente al codón utilizando\n",
        "    secuencia_proteinas += aminoacido #Agrega el aminoácido a la secuencia de proteínas\n",
        "\n",
        "    #if aminoacido == '*':\n",
        "        #break #Si el aminoácido es un codón STOP, se detiene el bucle\n",
        "\n",
        "    i += 3 #Irementa el índice en 3 para pasar al siguiente codón\n",
        "\n",
        "print(len(secuencia_adn))\n",
        "print(len(secuencia_proteinas))"
      ]
    },
    {
      "cell_type": "markdown",
      "source": [
        "#Datasets Nucleotidos"
      ],
      "metadata": {
        "id": "taxSwju0BmAv"
      }
    },
    {
      "cell_type": "code",
      "execution_count": null,
      "metadata": {
        "colab": {
          "base_uri": "https://localhost:8080/"
        },
        "id": "DEsi5UxjiZ_A",
        "outputId": "09ef41ba-654e-46d2-9857-c46a9ffe4ab2"
      },
      "outputs": [
        {
          "output_type": "stream",
          "name": "stdout",
          "text": [
            "X_train:\n",
            "[[84 67 65]\n",
            " [71 67 67]\n",
            " [71 67 67]\n",
            " ...\n",
            " [67 65 84]\n",
            " [67 65 67]\n",
            " [67 84 65]]\n",
            "10000000\n"
          ]
        }
      ],
      "source": [
        "#Proporcionar operaciones eficientes en matrices\n",
        "import numpy as np\n",
        "\n",
        "def generar_ngramas(seq, n):\n",
        "    ngramas = []  #Lista para almacenar los n-gramas\n",
        "    k = 0  #Variable de índice para recorrer la secuencia\n",
        "    for i in range((len(seq) + 1) // n):  #Bucle para generar los n-gramas\n",
        "        ngrama = seq[k:k+n]  #Extrae el n-grama actual\n",
        "        k += n  #Actualiza el índice\n",
        "        ngramas.append(ngrama)  #Agrega el n-grama a la lista\n",
        "    return ngramas\n",
        "\n",
        "seq = secuencia_adn  #Variable que contiene la secuencia de ADN\n",
        "n = 3  #Valor que indica la longitud de los n-gramas (trigramas en este caso)\n",
        "\n",
        "ngramas = generar_ngramas(seq, n)  #Genera los n-gramas llamando a la función\n",
        "\n",
        "#Control de el código que imprime los n-gramas\n",
        "\"\"\"\n",
        "print(\"N-gramas:\")\n",
        "for ngrama in ngramas:\n",
        "    print(ngrama)\n",
        "\"\"\"\n",
        "\n",
        "#Convierte los n-gramas en una matriz NumPy\n",
        "X_train = np.array([list(ngrama) for ngrama in ngramas])\n",
        "\n",
        "#Convierte las letras en valores ASCII y crea una matriz NumPy\n",
        "X_train = np.array([[ord(letra) for letra in ngrama] for ngrama in ngramas])\n",
        "\n",
        "print(\"X_train:\")\n",
        "print(X_train)\n",
        "print(len(X_train))\n"
      ]
    },
    {
      "cell_type": "markdown",
      "source": [
        "#Datasets Aminoácidos"
      ],
      "metadata": {
        "id": "2gs_8tUyBydh"
      }
    },
    {
      "cell_type": "code",
      "execution_count": null,
      "metadata": {
        "colab": {
          "base_uri": "https://localhost:8080/"
        },
        "id": "T98bWsJVw9Fq",
        "outputId": "0459d3e1-44b1-400c-e8b2-de5eec66caae"
      },
      "outputs": [
        {
          "output_type": "stream",
          "name": "stdout",
          "text": [
            "10000000\n"
          ]
        }
      ],
      "source": [
        "#Generación de secuencias de proteinas\n",
        "protein_sequences = secuencia_proteinas\n",
        "#Generar monogramas\n",
        "monogramas = [c for seq in protein_sequences for c in seq]\n",
        "\n",
        "#print(\"Monogramas:\")\n",
        "#print(monogramas)\n",
        "\n",
        "#Crear el diccionario de caracteres\n",
        "caracteres = sorted(list(set(monogramas)))\n",
        "caracter_a_indice = {caracter: indice for indice, caracter in enumerate(caracteres)}\n",
        "\n",
        "#Generar y_train\n",
        "y_train = np.array([caracter_a_indice[caracter] for caracter in monogramas])\n",
        "#print(\"y_train:\")\n",
        "#print(y_train)\n",
        "print(len(y_train))"
      ]
    },
    {
      "cell_type": "markdown",
      "source": [
        "#Entrenamiento"
      ],
      "metadata": {
        "id": "_tuaPKSSB4Ng"
      }
    },
    {
      "cell_type": "code",
      "execution_count": null,
      "metadata": {
        "colab": {
          "base_uri": "https://localhost:8080/"
        },
        "id": "vI8MCfBR1CvY",
        "outputId": "53ee597d-e79f-4b61-917c-52781833a0d3"
      },
      "outputs": [
        {
          "output_type": "stream",
          "name": "stdout",
          "text": [
            "Epoch 1/50\n",
            "312500/312500 [==============================] - 719s 2ms/step - loss: 2.4100\n",
            "Epoch 2/50\n",
            "312500/312500 [==============================] - 723s 2ms/step - loss: 0.5623\n",
            "Epoch 3/50\n",
            "312500/312500 [==============================] - 716s 2ms/step - loss: 0.4379\n",
            "Epoch 4/50\n",
            "312500/312500 [==============================] - 708s 2ms/step - loss: 0.3862\n",
            "Epoch 5/50\n",
            "312500/312500 [==============================] - 700s 2ms/step - loss: 0.3659\n",
            "Epoch 6/50\n",
            "312500/312500 [==============================] - 704s 2ms/step - loss: 0.3699\n",
            "Epoch 7/50\n",
            "312500/312500 [==============================] - 710s 2ms/step - loss: 0.3390\n",
            "Epoch 8/50\n",
            "312500/312500 [==============================] - 686s 2ms/step - loss: 0.3302\n",
            "Epoch 9/50\n",
            "312500/312500 [==============================] - 688s 2ms/step - loss: 0.3234\n",
            "Epoch 10/50\n",
            "312500/312500 [==============================] - 689s 2ms/step - loss: 0.3206\n",
            "Epoch 11/50\n",
            "312500/312500 [==============================] - 687s 2ms/step - loss: 0.3179\n",
            "Epoch 12/50\n",
            "312500/312500 [==============================] - 737s 2ms/step - loss: 0.3163\n",
            "Epoch 13/50\n",
            "312500/312500 [==============================] - 693s 2ms/step - loss: 0.3141\n",
            "Epoch 14/50\n",
            "312500/312500 [==============================] - 684s 2ms/step - loss: 0.3126\n",
            "Epoch 15/50\n",
            "312500/312500 [==============================] - 678s 2ms/step - loss: 0.3105\n",
            "Epoch 16/50\n",
            "312500/312500 [==============================] - 703s 2ms/step - loss: 0.3093\n",
            "Epoch 17/50\n",
            "312500/312500 [==============================] - 695s 2ms/step - loss: 0.3083\n",
            "Epoch 18/50\n",
            "312500/312500 [==============================] - 695s 2ms/step - loss: 0.3489\n",
            "Epoch 19/50\n",
            "312500/312500 [==============================] - 702s 2ms/step - loss: 0.3212\n",
            "Epoch 20/50\n",
            "312500/312500 [==============================] - 604s 2ms/step - loss: 0.2086\n",
            "Epoch 21/50\n",
            "312500/312500 [==============================] - 587s 2ms/step - loss: 0.2090\n",
            "Epoch 22/50\n",
            "312500/312500 [==============================] - 575s 2ms/step - loss: 0.3397\n",
            "Epoch 23/50\n",
            "312500/312500 [==============================] - 581s 2ms/step - loss: 0.2842\n",
            "Epoch 24/50\n",
            "312500/312500 [==============================] - 576s 2ms/step - loss: 0.0509\n",
            "Epoch 25/50\n",
            "312500/312500 [==============================] - 612s 2ms/step - loss: 0.0290\n",
            "Epoch 26/50\n",
            "312500/312500 [==============================] - 682s 2ms/step - loss: 0.0239\n",
            "Epoch 27/50\n",
            "312500/312500 [==============================] - 716s 2ms/step - loss: 0.0218\n",
            "Epoch 28/50\n",
            "312500/312500 [==============================] - 628s 2ms/step - loss: 0.0202\n",
            "Epoch 29/50\n",
            "312500/312500 [==============================] - 589s 2ms/step - loss: 0.0190\n",
            "Epoch 30/50\n",
            "312500/312500 [==============================] - 598s 2ms/step - loss: 0.0183\n",
            "Epoch 31/50\n",
            "312500/312500 [==============================] - 591s 2ms/step - loss: 0.0179\n",
            "Epoch 32/50\n",
            "312500/312500 [==============================] - 590s 2ms/step - loss: 0.0175\n",
            "Epoch 33/50\n",
            "312500/312500 [==============================] - 609s 2ms/step - loss: 0.0165\n",
            "Epoch 34/50\n",
            "312500/312500 [==============================] - 594s 2ms/step - loss: 0.0158\n",
            "Epoch 35/50\n",
            "312500/312500 [==============================] - 597s 2ms/step - loss: 0.0156\n",
            "Epoch 36/50\n",
            "312500/312500 [==============================] - 587s 2ms/step - loss: 0.0157\n",
            "Epoch 37/50\n",
            "312500/312500 [==============================] - 586s 2ms/step - loss: 0.0143\n",
            "Epoch 38/50\n",
            "312500/312500 [==============================] - 587s 2ms/step - loss: 0.0145\n",
            "Epoch 39/50\n",
            "312500/312500 [==============================] - 582s 2ms/step - loss: 0.0139\n",
            "Epoch 40/50\n",
            "312500/312500 [==============================] - 582s 2ms/step - loss: 0.0137\n",
            "Epoch 41/50\n",
            "312500/312500 [==============================] - 641s 2ms/step - loss: 0.0137\n",
            "Epoch 42/50\n",
            "312500/312500 [==============================] - 641s 2ms/step - loss: 0.0136\n",
            "Epoch 43/50\n",
            "312500/312500 [==============================] - 620s 2ms/step - loss: 0.0130\n",
            "Epoch 44/50\n",
            "312500/312500 [==============================] - 583s 2ms/step - loss: 0.0125\n",
            "Epoch 45/50\n",
            "312500/312500 [==============================] - 596s 2ms/step - loss: 0.0127\n",
            "Epoch 46/50\n",
            "312500/312500 [==============================] - 607s 2ms/step - loss: 0.0128\n",
            "Epoch 47/50\n",
            "312500/312500 [==============================] - 595s 2ms/step - loss: 0.0124\n",
            "Epoch 48/50\n",
            "312500/312500 [==============================] - 610s 2ms/step - loss: 0.0127\n",
            "Epoch 49/50\n",
            "312500/312500 [==============================] - 603s 2ms/step - loss: 0.0122\n",
            "Epoch 50/50\n",
            "312500/312500 [==============================] - 605s 2ms/step - loss: 0.0120\n",
            "312500/312500 [==============================] - 435s 1ms/step\n"
          ]
        },
        {
          "output_type": "stream",
          "name": "stderr",
          "text": [
            "WARNING:absl:Found untraced functions such as _update_step_xla while saving (showing 1 of 1). These functions will not be directly callable after loading.\n"
          ]
        }
      ],
      "source": [
        "\n",
        "#Construir una red neuronal utilizando la API de alto nivel de Keras\n",
        "import tensorflow as tf\n",
        "\n",
        "#Definir la arquitectura de la red neuronal\n",
        "model = tf.keras.models.Sequential([\n",
        "    tf.keras.layers.Flatten(input_shape=(3, 1)),\n",
        "    tf.keras.layers.Dense(64, activation='relu'),\n",
        "    tf.keras.layers.Dense(64, activation='relu'),\n",
        "    tf.keras.layers.Dense(1, activation='linear')\n",
        "])\n",
        "\n",
        "#Compilar el modelo\n",
        "model.compile(optimizer='adam', loss='mean_squared_error')\n",
        "\n",
        "#Definir y asignar los datos de entrenamiento\n",
        "#X_train = np.array([[1, 2, 3], [4, 5, 6], [7, 8, 9]])\n",
        "#y_train = np.array([10, 20, 30])\n",
        "\n",
        "#Entrenar el modelo\n",
        "model.fit(X_train, y_train, epochs=50)\n",
        "\n",
        "#Predecir valores de y_train a partir de X_train\n",
        "y_train_pred = model.predict(X_train)\n",
        "\n",
        "model.save(\"/content/drive/MyDrive/Colab Notebooks/Entrenamiento IA/dna2prot\" )\n",
        "\n"
      ]
    },
    {
      "cell_type": "markdown",
      "source": [
        "#Evaluación del Modelo cargado"
      ],
      "metadata": {
        "id": "ScjxlU3FB-3A"
      }
    },
    {
      "cell_type": "code",
      "execution_count": null,
      "metadata": {
        "colab": {
          "base_uri": "https://localhost:8080/"
        },
        "id": "mwOJeZ3CxWAt",
        "outputId": "bca79b6e-55d0-4f61-bb04-3e7567c6eb97"
      },
      "outputs": [
        {
          "output_type": "stream",
          "name": "stdout",
          "text": [
            "312500/312500 [==============================] - 609s 2ms/step - loss: 8.3911e-05\n"
          ]
        },
        {
          "output_type": "execute_result",
          "data": {
            "text/plain": [
              "8.391059236600995e-05"
            ]
          },
          "metadata": {},
          "execution_count": 10
        }
      ],
      "source": [
        "#Evaluar el rendimiento de modelo cargado\n",
        "import tensorflow as tf\n",
        "model = tf.keras.models.load_model(\"/content/drive/MyDrive/Colab Notebooks/Entrenamiento IA/dna2prot\")\n",
        "model.evaluate(X_train, y_train)"
      ]
    },
    {
      "cell_type": "code",
      "source": [
        "import matplotlib.pyplot as plt\n",
        "\n",
        "# Valores de pérdida por época\n",
        "loss_values = [\n",
        "    2.4100, 0.5623, 0.4379, 0.3862, 0.3659, 0.3699, 0.3390, 0.3302, 0.3234,\n",
        "    0.3206, 0.3179, 0.3163, 0.3141, 0.3126, 0.3105, 0.3093, 0.3083, 0.3489,\n",
        "    0.3212, 0.2086, 0.2090, 0.3397, 0.2842, 0.0509, 0.0290, 0.0239, 0.0218,\n",
        "    0.0202, 0.0190, 0.0183, 0.0179, 0.0175, 0.0165, 0.0158, 0.0156, 0.0157,\n",
        "    0.0143, 0.0145, 0.0139, 0.0137, 0.0137, 0.0136, 0.0130, 0.0125, 0.0127,\n",
        "    0.0128, 0.0124, 0.0127, 0.0122, 0.0120\n",
        "]\n",
        "\n",
        "# Crear una lista de épocas\n",
        "epochs = list(range(1, 51))\n",
        "\n",
        "# Graficar la pérdida por época\n",
        "plt.xlabel(\"Época\")\n",
        "plt.ylabel(\"Pérdida\")\n",
        "plt.plot(epochs, loss_values, marker='o')  # Usar marcadores para cada época\n",
        "plt.show()\n"
      ],
      "metadata": {
        "id": "gDqPD7Rw01cG",
        "outputId": "d64dd5a6-0eec-4d91-8b3d-d4095bc381f6",
        "colab": {
          "base_uri": "https://localhost:8080/",
          "height": 453
        }
      },
      "execution_count": null,
      "outputs": [
        {
          "output_type": "display_data",
          "data": {
            "text/plain": [
              "<Figure size 640x480 with 1 Axes>"
            ],
            "image/png": "[encoded data removed]"
          },
          "metadata": {}
        }
      ]
    },
    {
      "cell_type": "markdown",
      "source": [
        "#Predicción"
      ],
      "metadata": {
        "id": "SLpUiiLFCHRb"
      }
    },
    {
      "cell_type": "code",
      "source": [
        "import numpy as np\n",
        "import tensorflow as tf\n",
        "\n",
        "# Cargar el modelo previamente entrenado\n",
        "model = tf.keras.models.load_model('/content/drive/MyDrive/Colab Notebooks/Entrenamiento IA/dna2prot')\n",
        "\n",
        "# Esta función genera n-gramas de una secuencia dada\n",
        "def generar_ngramas(seq, n):\n",
        "    ngramas = []\n",
        "    k = 0\n",
        "    for i in range((len(seq) + 1) // n):\n",
        "        ngrama = seq[k:k+n]  # Extraemos el n-grama actual\n",
        "        k += n  # Actualizamos la variable de control para el siguiente n-grama\n",
        "        ngramas.append(ngrama)  # Agregamos el n-grama a la lista\n",
        "    return ngramas\n",
        "\n",
        "# Solicitar al usuario que ingrese la secuencia\n",
        "seq = input(\"Secuencia de Nucleotidos: \")\n",
        "# Imprimir la longitud de la secuencia ingresada\n",
        "print(\"Longitud de la secuencia:\", len(seq))\n",
        "\n",
        "n = 3  # Longitud de los n-gramas\n",
        "\n",
        "ngramas = generar_ngramas(seq, n)  # Generamos los n-gramas de la secuencia\n",
        "\n",
        "# Convertimos los n-gramas en una matriz numérica con el valor numérico de cada letra\n",
        "seq = np.array([[ord(letra) for letra in ngrama] for ngrama in ngramas])\n",
        "y_train_pred = model.predict(seq)  # Realizamos una predicción\n",
        "print(y_train_pred)\n",
        "\n",
        "# Redondeamos los valores de la predicción a enteros\n",
        "y_train_pred = np.round(y_train_pred).astype(int)\n",
        "\n",
        "print(y_train_pred)\n"
      ],
      "metadata": {
        "colab": {
          "base_uri": "https://localhost:8080/"
        },
        "id": "XL7gfVZ5drl7",
        "outputId": "fdba816c-1bf7-4f85-fa04-93443cf61905"
      },
      "execution_count": null,
      "outputs": [
        {
          "name": "stdout",
          "output_type": "stream",
          "text": [
            "Secuencia de Nucleotidos: ATGCGGGTGGGCTGGATCAAAATACGGCTTCTGGGAGTAAGCAAACCTACCGAGGGATCAGGCGAGGGGACGGCCGTAATGGGGCAGGTGAGCAACACGATTTGTCGGGGATCTAAACGGCTGAGGAAGGGCAACCCTGGCGACACATCCCAGCGCGGGCGTTCCACCCACCGAGGAACCCGGGCGCCTCTCGAATGTCCCGGGTTCCGATCAGCCGGTCTGCGGCTGCCTTGGGATCCCTAG\n"
          ]
        },
        {
          "output_type": "stream",
          "name": "stderr",
          "text": [
            "WARNING:tensorflow:5 out of the last 13 calls to <function Model.make_predict_function.<locals>.predict_function at 0x7da19d649bd0> triggered tf.function retracing. Tracing is expensive and the excessive number of tracings could be due to (1) creating @tf.function repeatedly in a loop, (2) passing tensors with different shapes, (3) passing Python objects instead of tensors. For (1), please define your @tf.function outside of the loop. For (2), @tf.function has reduce_retracing=True option that can avoid unnecessary retracing. For (3), please refer to https://www.tensorflow.org/guide/function#controlling_retracing and https://www.tensorflow.org/api_docs/python/tf/function for  more details.\n"
          ]
        },
        {
          "output_type": "stream",
          "name": "stdout",
          "text": [
            "Longitud de la secuencia: 243\n",
            "3/3 [==============================] - 0s 7ms/step\n",
            "[[ 1.10042953e+01]\n",
            " [ 1.49832897e+01]\n",
            " [ 1.80121326e+01]\n",
            " [ 6.00081444e+00]\n",
            " [ 1.90030937e+01]\n",
            " [ 8.00794601e+00]\n",
            " [ 9.00399780e+00]\n",
            " [ 8.00673676e+00]\n",
            " [ 1.49832897e+01]\n",
            " [ 9.98166656e+00]\n",
            " [ 9.98939896e+00]\n",
            " [ 6.01617813e+00]\n",
            " [ 1.80096531e+01]\n",
            " [ 1.59882412e+01]\n",
            " [ 9.00399780e+00]\n",
            " [ 1.29968758e+01]\n",
            " [ 1.69858646e+01]\n",
            " [ 4.00351143e+00]\n",
            " [ 6.01617813e+00]\n",
            " [ 1.60077744e+01]\n",
            " [ 6.00081444e+00]\n",
            " [ 4.00351143e+00]\n",
            " [ 6.00646305e+00]\n",
            " [ 1.70061340e+01]\n",
            " [ 1.00398254e+00]\n",
            " [ 1.80096531e+01]\n",
            " [ 1.10042953e+01]\n",
            " [ 6.00646305e+00]\n",
            " [ 1.40022964e+01]\n",
            " [ 1.80121326e+01]\n",
            " [ 1.59882374e+01]\n",
            " [ 1.19948540e+01]\n",
            " [ 1.70061340e+01]\n",
            " [ 7.98601151e+00]\n",
            " [ 1.99962120e+01]\n",
            " [ 1.49832897e+01]\n",
            " [ 6.01617813e+00]\n",
            " [ 1.59957829e+01]\n",
            " [ 9.00399780e+00]\n",
            " [ 1.49832897e+01]\n",
            " [ 9.98939896e+00]\n",
            " [ 1.49920006e+01]\n",
            " [ 8.98748779e+00]\n",
            " [ 6.00081444e+00]\n",
            " [ 1.19948435e+01]\n",
            " [ 1.29968758e+01]\n",
            " [ 6.00081444e+00]\n",
            " [ 3.00002480e+00]\n",
            " [ 1.69901390e+01]\n",
            " [ 1.59905987e+01]\n",
            " [ 1.40022964e+01]\n",
            " [ 1.50093880e+01]\n",
            " [ 6.00646305e+00]\n",
            " [ 1.49985867e+01]\n",
            " [ 1.59905987e+01]\n",
            " [ 1.69858646e+01]\n",
            " [ 7.00716400e+00]\n",
            " [ 1.50035009e+01]\n",
            " [ 6.01617813e+00]\n",
            " [ 1.69858646e+01]\n",
            " [ 1.49832897e+01]\n",
            " [ 1.00342178e+00]\n",
            " [ 1.29968748e+01]\n",
            " [ 1.00142326e+01]\n",
            " [ 4.00891304e+00]\n",
            " [ 1.99962120e+01]\n",
            " [ 1.29855900e+01]\n",
            " [ 6.00646305e+00]\n",
            " [ 5.00725794e+00]\n",
            " [ 1.50035009e+01]\n",
            " [ 1.60077744e+01]\n",
            " [ 1.00398254e+00]\n",
            " [ 5.99394703e+00]\n",
            " [ 9.98939896e+00]\n",
            " [ 1.49832897e+01]\n",
            " [ 9.98939896e+00]\n",
            " [ 1.29968758e+01]\n",
            " [ 1.90030937e+01]\n",
            " [ 2.99380970e+00]\n",
            " [ 1.29855900e+01]\n",
            " [-1.51634216e-03]]\n",
            "[[11]\n",
            " [15]\n",
            " [18]\n",
            " [ 6]\n",
            " [19]\n",
            " [ 8]\n",
            " [ 9]\n",
            " [ 8]\n",
            " [15]\n",
            " [10]\n",
            " [10]\n",
            " [ 6]\n",
            " [18]\n",
            " [16]\n",
            " [ 9]\n",
            " [13]\n",
            " [17]\n",
            " [ 4]\n",
            " [ 6]\n",
            " [16]\n",
            " [ 6]\n",
            " [ 4]\n",
            " [ 6]\n",
            " [17]\n",
            " [ 1]\n",
            " [18]\n",
            " [11]\n",
            " [ 6]\n",
            " [14]\n",
            " [18]\n",
            " [16]\n",
            " [12]\n",
            " [17]\n",
            " [ 8]\n",
            " [20]\n",
            " [15]\n",
            " [ 6]\n",
            " [16]\n",
            " [ 9]\n",
            " [15]\n",
            " [10]\n",
            " [15]\n",
            " [ 9]\n",
            " [ 6]\n",
            " [12]\n",
            " [13]\n",
            " [ 6]\n",
            " [ 3]\n",
            " [17]\n",
            " [16]\n",
            " [14]\n",
            " [15]\n",
            " [ 6]\n",
            " [15]\n",
            " [16]\n",
            " [17]\n",
            " [ 7]\n",
            " [15]\n",
            " [ 6]\n",
            " [17]\n",
            " [15]\n",
            " [ 1]\n",
            " [13]\n",
            " [10]\n",
            " [ 4]\n",
            " [20]\n",
            " [13]\n",
            " [ 6]\n",
            " [ 5]\n",
            " [15]\n",
            " [16]\n",
            " [ 1]\n",
            " [ 6]\n",
            " [10]\n",
            " [15]\n",
            " [10]\n",
            " [13]\n",
            " [19]\n",
            " [ 3]\n",
            " [13]\n",
            " [ 0]]\n"
          ]
        }
      ]
    },
    {
      "cell_type": "markdown",
      "source": [
        "#Traducción de predicción"
      ],
      "metadata": {
        "id": "cLvbPodwCPjT"
      }
    },
    {
      "cell_type": "code",
      "execution_count": null,
      "metadata": {
        "colab": {
          "base_uri": "https://localhost:8080/"
        },
        "id": "J5dPfOUdx2Z9",
        "outputId": "0b3baf36-78e2-4a82-a841-edc40f946883"
      },
      "outputs": [
        {
          "output_type": "stream",
          "name": "stdout",
          "text": [
            "y_train_pred_list: [[11], [15], [18], [6], [19], [8], [9], [8], [15], [10], [10], [6], [18], [16], [9], [13], [17], [4], [6], [16], [6], [4], [6], [17], [1], [18], [11], [6], [14], [18], [16], [12], [17], [8], [20], [15], [6], [16], [9], [15], [10], [15], [9], [6], [12], [13], [6], [3], [17], [16], [14], [15], [6], [15], [16], [17], [7], [15], [6], [17], [15], [1], [13], [10], [4], [20], [13], [6], [5], [15], [16], [1], [6], [10], [15], [10], [13], [19], [3], [13], [0]] Longitud: 81\n",
            "lista_plana: [11, 15, 18, 6, 19, 8, 9, 8, 15, 10, 10, 6, 18, 16, 9, 13, 17, 4, 6, 16, 6, 4, 6, 17, 1, 18, 11, 6, 14, 18, 16, 12, 17, 8, 20, 15, 6, 16, 9, 15, 10, 15, 9, 6, 12, 13, 6, 3, 17, 16, 14, 15, 6, 15, 16, 17, 7, 15, 6, 17, 15, 1, 13, 10, 4, 20, 13, 6, 5, 15, 16, 1, 6, 10, 15, 10, 13, 19, 3, 13, 0] Longitud: 81\n",
            "translated_string: MRVGWIKIRLLGVSKPTEGSGEGTAVMGQVSNTIYRGSKRLRKGNPGDTSQRGRSTHRGTRAPLEYPGFRSAGLRLPWDP*\n",
            "Longitud de las letras en translated_string: 80\n"
          ]
        }
      ],
      "source": [
        "#Biblioteca para operaciones matemáticas y manipulación de matrices\n",
        "import numpy as np\n",
        "\n",
        "#Definir diccionario que asigna valores numéricos a letras y simbolos\n",
        "dic = {\n",
        "    0: '*',\n",
        "    1: 'A',\n",
        "    2: 'C',\n",
        "    3: 'D',\n",
        "    4: 'E',\n",
        "    5: 'F',\n",
        "    6: 'G',\n",
        "    7: 'H',\n",
        "    8: 'I',\n",
        "    9: 'K',\n",
        "    10: 'L',\n",
        "    11: 'M',\n",
        "    12: 'N',\n",
        "    13: 'P',\n",
        "    14: 'Q',\n",
        "    15: 'R',\n",
        "    16: 'S',\n",
        "    17: 'T',\n",
        "    18: 'V',\n",
        "    19: 'W',\n",
        "    20: 'Y'\n",
        "}\n",
        "\n",
        "value = []\n",
        "\n",
        "# Convertir el ndarray a lista\n",
        "y_train_pred_list = y_train_pred.tolist()\n",
        "print(\"y_train_pred_list:\", y_train_pred_list, \"Longitud:\", len(y_train_pred_list))\n",
        "\n",
        "# Compresión de listas para \"aplanar\" una lista existente\n",
        "lista_plana = [elemento for sublist in y_train_pred_list for elemento in sublist]\n",
        "print(\"lista_plana:\", lista_plana, \"Longitud:\", len(lista_plana))\n",
        "\n",
        "# Utilizando la comprensión de listas, se crea una nueva lista\n",
        "translation = [dic[int(value)] for value in lista_plana if int(value) in dic]\n",
        "translated_string = ''.join(translation)\n",
        "\n",
        "# Contar la longitud de las letras en la cadena y luego imprimir ese valor\n",
        "length_of_letters = sum(1 for char in translated_string if char.isalpha())\n",
        "print(\"translated_string:\", translated_string)\n",
        "print(\"Longitud de las letras en translated_string:\", length_of_letters)"
      ]
    },
    {
      "cell_type": "markdown",
      "source": [
        "MRVGWIKIRLLGVSKPTEGSGEGTAVMGQVSNTICRGSKRLRKGNPGDTSQRGRSTHRGTRAPLECPGFRSAGLRLPWDP"
      ],
      "metadata": {
        "id": "Lpx0nUldwZRD"
      }
    },
    {
      "cell_type": "markdown",
      "source": [
        "#Validación de la predicción"
      ],
      "metadata": {
        "id": "aKNYVnfCCZuc"
      }
    },
    {
      "cell_type": "code",
      "source": [
        "def needleman_wunsch(seq1, seq2, match_score=1, mismatch_score=-1, gap_penalty=-1):\n",
        "    # Inicializar matriz de programación dinámica\n",
        "    n = len(seq1)\n",
        "    m = len(seq2)\n",
        "    dp = [[0 for _ in range(m + 1)] for _ in range(n + 1)]\n",
        "\n",
        "    # Rellenar la matriz de programación dinámica\n",
        "    for i in range(1, n + 1):\n",
        "        for j in range(1, m + 1):\n",
        "            match = dp[i - 1][j - 1] + (match_score if seq1[i - 1] == seq2[j - 1] else mismatch_score)\n",
        "            delete = dp[i - 1][j] + gap_penalty\n",
        "            insert = dp[i][j - 1] + gap_penalty\n",
        "            dp[i][j] = max(match, delete, insert)\n",
        "\n",
        "    # Realizar el traceback para obtener el alineamiento\n",
        "    alignment_seq1 = \"\"\n",
        "    alignment_seq2 = \"\"\n",
        "    i, j = n, m\n",
        "    while i > 0 and j > 0:\n",
        "        if dp[i][j] == dp[i - 1][j - 1] + (match_score if seq1[i - 1] == seq2[j - 1] else mismatch_score):\n",
        "            alignment_seq1 = seq1[i - 1] + alignment_seq1\n",
        "            alignment_seq2 = seq2[j - 1] + alignment_seq2\n",
        "            i -= 1\n",
        "            j -= 1\n",
        "        elif dp[i][j] == dp[i - 1][j] + gap_penalty:\n",
        "            alignment_seq1 = seq1[i - 1] + alignment_seq1\n",
        "            alignment_seq2 = \"-\" + alignment_seq2\n",
        "            i -= 1\n",
        "        else:\n",
        "            alignment_seq1 = \"-\" + alignment_seq1\n",
        "            alignment_seq2 = seq2[j - 1] + alignment_seq2\n",
        "            j -= 1\n",
        "\n",
        "    # Agregar residuos restantes si alguna secuencia es más larga que la otra\n",
        "    while i > 0:\n",
        "        alignment_seq1 = seq1[i - 1] + alignment_seq1\n",
        "        alignment_seq2 = \"-\" + alignment_seq2\n",
        "        i -= 1\n",
        "\n",
        "    while j > 0:\n",
        "        alignment_seq1 = \"-\" + alignment_seq1\n",
        "        alignment_seq2 = seq2[j - 1] + alignment_seq2\n",
        "        j -= 1\n",
        "\n",
        "    return alignment_seq1, alignment_seq2\n",
        "\n",
        "\n",
        "def hamming_distance(seq1, seq2):\n",
        "    if len(seq1) != len(seq2):\n",
        "        raise ValueError(\"Las secuencias deben tener la misma longitud.\")\n",
        "\n",
        "    distance = 0\n",
        "    for i, j in zip(seq1, seq2):\n",
        "        if i != j:\n",
        "            distance += 1\n",
        "\n",
        "    return distance\n",
        "\n",
        "\n",
        "def main():\n",
        "    # Solicitar al usuario que ingrese la secuencia predicha\n",
        "    secuencia1predicha = input(\"Ingresa la secuencia predicha: \")\n",
        "\n",
        "    # Solicitar al usuario que ingrese la secuencia real\n",
        "    secuencia2real = input(\"Ingresa la secuencia real: \")\n",
        "\n",
        "    # Obtener el alineamiento utilizando Needleman-Wunsch\n",
        "    alineamiento1, alineamiento2 = needleman_wunsch(secuencia1predicha, secuencia2real)\n",
        "\n",
        "    # Imprimir las secuencias alineadas\n",
        "    print(\"Secuencia predicha alineada:\", alineamiento1)\n",
        "    print(\"Secuencia real alineada:\", alineamiento2)\n",
        "\n",
        "    # Verificar que las secuencias alineadas tengan la misma longitud\n",
        "    if len(alineamiento1) != len(alineamiento2):\n",
        "        print(\"¡Error! Las secuencias alineadas no tienen la misma longitud.\")\n",
        "\n",
        "    # Calcular la distancia de Hamming entre las secuencias alineadas\n",
        "    distancia = hamming_distance(alineamiento1, alineamiento2)\n",
        "    print(\"La distancia de Hamming entre las secuencias alineadas es:\", distancia)\n",
        "\n",
        "\n",
        "if __name__ == \"__main__\":\n",
        "    main()\n"
      ],
      "metadata": {
        "colab": {
          "base_uri": "https://localhost:8080/"
        },
        "id": "eudUS0MvVaxa",
        "outputId": "95ec6978-91e3-457b-9ee5-c23322b8e317"
      },
      "execution_count": null,
      "outputs": [
        {
          "output_type": "stream",
          "name": "stdout",
          "text": [
            "Ingresa la secuencia predicha: MRVGWIKIRLLGVSKPTEGSGEGTAVMGQVSNTIYRGSKRLRKGNPGDTSQRGRSTHRGTRAPLEYPGFRSAGLRLPWDP\n",
            "Ingresa la secuencia real: MRVGWIKIRLLGVSKPTEGSGEGTAVMGQVSNTICRGSKRLRKGNPGDTSQRGRSTHRGTRAPLECPGFRSAGLRLPWDP\n",
            "Secuencia predicha alineada: MRVGWIKIRLLGVSKPTEGSGEGTAVMGQVSNTIYRGSKRLRKGNPGDTSQRGRSTHRGTRAPLEYPGFRSAGLRLPWDP\n",
            "Secuencia real alineada: MRVGWIKIRLLGVSKPTEGSGEGTAVMGQVSNTICRGSKRLRKGNPGDTSQRGRSTHRGTRAPLECPGFRSAGLRLPWDP\n",
            "La distancia de Hamming entre las secuencias alineadas es: 2\n"
          ]
        }
      ]
    },
    {
      "cell_type": "markdown",
      "source": [
        "#Datos de entrenamiento no verificados"
      ],
      "metadata": {
        "id": "-g5u0tXuCjsy"
      }
    },
    {
      "cell_type": "code",
      "source": [
        "#Datos de Entrenamiento NCBI .\n",
        "#Nucleotidos Reference Sequence: NC_045512.2 21563-25384  Severe acute respiratory syndrome coronavirus 2 isolate Wuhan-Hu-1, complete genome\n",
        "#Proteina Reference Sequence: YP_009724390.1  surface glycoprotein [Severe acute respiratory syndrome coronavirus 2]\n",
        "import tempfile\n",
        "\n",
        "codigo_entrenamiento = \"\"\"\n",
        "\n",
        "def needleman_wunsch(seq1, seq2, match_score=1, mismatch_score=-1, gap_penalty=-1):\n",
        "    # Inicializar matriz de programación dinámica\n",
        "    n = len(seq1)\n",
        "    m = len(seq2)\n",
        "    dp = [[0 for _ in range(m + 1)] for _ in range(n + 1)]\n",
        "\n",
        "    # Inicializar primera fila y columna con penalizaciones por gaps\n",
        "    for i in range(1, n + 1):\n",
        "        dp[i][0] = dp[i - 1][0] + gap_penalty\n",
        "\n",
        "    for j in range(1, m + 1):\n",
        "        dp[0][j] = dp[0][j - 1] + gap_penalty\n",
        "\n",
        "    # Rellenar la matriz de programación dinámica\n",
        "    for i in range(1, n + 1):\n",
        "        for j in range(1, m + 1):\n",
        "            match = dp[i - 1][j - 1] + (match_score if seq1[i - 1] == seq2[j - 1] else mismatch_score)\n",
        "            delete = dp[i - 1][j] + gap_penalty\n",
        "            insert = dp[i][j - 1] + gap_penalty\n",
        "            dp[i][j] = max(match, delete, insert)\n",
        "\n",
        "    # Realizar el traceback para obtener el alineamiento\n",
        "    alignment_seq1 = \"\"\n",
        "    alignment_seq2 = \"\"\n",
        "    i = n\n",
        "    j = m\n",
        "    while i > 0 and j > 0:\n",
        "        if dp[i][j] == dp[i - 1][j - 1] + (match_score if seq1[i - 1] == seq2[j - 1] else mismatch_score):\n",
        "            alignment_seq1 = seq1[i - 1] + alignment_seq1\n",
        "            alignment_seq2 = seq2[j - 1] + alignment_seq2\n",
        "            i -= 1\n",
        "            j -= 1\n",
        "        elif dp[i][j] == dp[i - 1][j] + gap_penalty:\n",
        "            alignment_seq1 = seq1[i - 1] + alignment_seq1\n",
        "            alignment_seq2 = \"-\" + alignment_seq2\n",
        "            i -= 1\n",
        "        else:\n",
        "            alignment_seq1 = \"-\" + alignment_seq1\n",
        "            alignment_seq2 = seq2[j - 1] + alignment_seq2\n",
        "            j -= 1\n",
        "\n",
        "    # Lidiar con los residuos si las secuencias no tienen la misma longitud\n",
        "    while i > 0:\n",
        "        alignment_seq1 = seq1[i - 1] + alignment_seq1\n",
        "        alignment_seq2 = \"-\" + alignment_seq2\n",
        "        i -= 1\n",
        "\n",
        "    while j > 0:\n",
        "        alignment_seq1 = \"-\" + alignment_seq1\n",
        "        alignment_seq2 = seq2[j - 1] + alignment_seq2\n",
        "        j -= 1\n",
        "\n",
        "    return alignment_seq1, alignment_seq2\n",
        "\n",
        "\n",
        "def hamming_distance(seq1, seq2):\n",
        "    if len(seq1) != len(seq2):\n",
        "        raise ValueError(\"Las secuencias deben tener la misma longitud.\")\n",
        "\n",
        "    distance = 0\n",
        "    for i in range(len(seq1)):\n",
        "        if seq1[i] != seq2[i]:\n",
        "            distance += 1\n",
        "\n",
        "    return distance\n",
        "\n",
        "# Secuencias originales\n",
        "secuencia1predicha = \"MFVFLVLLPLVSSQYVNLTTRYQLPPAYNSFTRGVPDKVFRSSVLHSYQDLFLPFFSNVYWFHAIHVSGTNGYKRFDNPVLPFNDGVFASYEKSNIIRGWIFGYYLDSKTQSLLIVNNAYNVVIKVYEFQFYNDPFLGVHKNNKSWMESEFRVSSANNCYFEVSQPFLMDLEGKQGNFKNLREFVFKNIDGFKISKHTPINLVRDLPQGFSALEPLVDLPIGINIYRFQYLLALHRSLYPGDSSSGWTAGAAAVGLQPRYFLLKNENGTITDAVDYALDPLSETKYTLKSFYVEKGIQYSNFRVQPTESIVRFPNITNLCPFGEVFNATRFASVAWNRKRISNYVADSVLNSASFSYFKYGVSPYKLNDLCFYNVADSFVIRGDEVRQIAPGQYGKIADNKLPDDFTGCVIAWNSNNLDSKVGGNNLRLFRKSNLKPFERDISYEIQAGSTPYNGVEGFNYFPLQSGFQPYNGVGQPRVVVLSFELLHAPAYVYGPKKSYNLVKNKYVNFNFNGLTGTGVLYESNKKFLPFQQFGRDIADYYDAVRDPQTLEILDITPYSFGGVSVITPGTNYSNQVAVLQDVNCTEVPVAIHADQLYPYWRVSTGSNVFQTRAGYLIGAEHVNNSEYDIPIGAGICASQYQYNSPRRARSVASQSIIAYMSLGAENSVASNNSIAIPTNFYISVTTEILPVSMTKTSVDYTMIYGDSYECSNLLLQGSFYTQLNRALYGIAVEQDKNTQEVFAQVKQIKTPPIKDFGGFNFSQILPDPSKPSKRSFIEDLLFNKVTLADAGFIKQGDCLGDIAARDLIYAQKFNGLYVLPPLLTDEMIAQYSALLAGTIYSGWTFGAGAALQIPFAMQMARFNGIGVTQNVLENQKLIANQFNSAIGKIQDSLSSTASALGKLQDVVNQNAQALNTLVKQLSSNFGAISSVLNDILSRLDKVEAEVQIDRLITGRLQSLQTVYQQLIRAAEIRASANLAAYKMSEYVLGQSKRVDFYGKGHLMSFPQSAPHGVVFLHVYVPAQEKNFTYAPAIYHDGKAHFPREGVFVSNGTHWFVTQRNFEPQIIYTDNTFVSGNYDVVIGIVNNTVDPLQPELDSFKEELDKFKNHTSPDVDLGDISGINASVVNIQKEIDRLNEVAKNLNESLIDLQELGKEQIKWPWIWLGFIAGLIAIVMVTIMLCYMTSCYSYLKGYYSYGSCCKFDEDDSEPVLKGVKLHT\"\n",
        "secuencia2real     = \"MFVFLVLLPLVSSQCVNLTTRTQLPPAYTNSFTRGVYYPDKVFRSSVLHSTQDLFLPFFSNVTWFHAIHVSGTNGTKRFDNPVLPFNDGVYFASTEKSNIIRGWIFGTTLDSKTQSLLIVNNATNVVIKVCEFQFCNDPFLGVYYHKNNKSWMESEFRVYSSANNCTFEYVSQPFLMDLEGKQGNFKNLREFVFKNIDGYFKIYSKHTPINLVRDLPQGFSALEPLVDLPIGINITRFQTLLALHRSYLTPGDSSSGWTAGAAAYYVGYLQPRTFLLKYNENGTITDAVDCALDPLSETKCTLKSFTVEKGIYQTSNFRVQPTESIVRFPNITNLCPFGEVFNATRFASVYAWNRKRISNCVADYSVLYNSASFSTFKCYGVSPTKLNDLCFTNVYADSFVIRGDEVRQIAPGQTGKIADYNYKLPDDFTGCVIAWNSNNLDSKVGGNYNYLYRLFRKSNLKPFERDISTEIYQAGSTPCNGVEGFNCYFPLQSYGFQPTNGVGYQPYRVVVLSFELLHAPATVCGPKKSTNLVKNKCVNFNFNGLTGTGVLTESNKKFLPFQQFGRDIADTTDAVRDPQTLEILDITPCSFGGVSVITPGTNTSNQVAVLYQDVNCTEVPVAIHADQLTPTWRVYSTGSNVFQTRAGCLIGAEHVNNSYECDIPIGAGICASYQTQTNSPRRARSVASQSIIAYTMSLGAENSVAYSNNSIAIPTNFTISVTTEILPVSMTKTSVDCTMYICGDSTECSNLLLQYGSFCTQLNRALTGIAVEQDKNTQEVFAQVKQIYKTPPIKDFGGFNFSQILPDPSKPSKRSFIEDLLFNKVTLADAGFIKQYGDCLGDIAARDLICAQKFNGLTVLPPLLTDEMIAQYTSALLAGTITSGWTFGAGAALQIPFAMQMAYRFNGIGVTQNVLYENQKLIANQFNSAIGKIQDSLSSTASALGKLQDVVNQNAQALNTLVKQLSSNFGAISSVLNDILSRLDKVEAEVQIDRLITGRLQSLQTYVTQQLIRAAEIRASANLAATKMSECVLGQSKRVDFCGKGYHLMSFPQSAPHGVVFLHVTYVPAQEKNFTTAPAICHDGKAHFPREGVFVSNGTHWFVTQRNFYEPQIITTDNTFVSGNCDVVIGIVNNTVYDPLQPELDSFKEELDKYFKNHTSPDVDLGDISGINASVVNIQKEIDRLNEVAKNLNESLIDLQELGKYEQYIKWPWYIWLGFIAGLIAIVMVTIMLCCMTSCCSCLKGCCSCGSCCKFDEDDSEPVLKGVKLHYT\"\n",
        "\n",
        "# Obtener el alineamiento utilizando Needleman-Wunsch\n",
        "alineamiento1, alineamiento2 = needleman_wunsch(secuencia1predicha, secuencia2real)\n",
        "print(\"Secuencia predicha alineada:\", alineamiento1)\n",
        "print(\"Secuencia real alineada:\", alineamiento2)\n",
        "\n",
        "# Calcular la distancia de Hamming entre las secuencias alineadas\n",
        "try:\n",
        "    distancia = hamming_distance(alineamiento1, alineamiento2)\n",
        "    print(\"La distancia de Hamming entre las secuencias alineadas es:\", distancia)\n",
        "except ValueError as e:\n",
        "    print(\"Error:\", e)\n",
        "\"\"\"\n",
        "\n",
        "def guardar_codigo_temporal(codigo, ruta_destino, nombre_archivo):\n",
        "    # Crear un archivo temporal de texto en la ruta de destino con el nombre especificado\n",
        "    with tempfile.NamedTemporaryFile(suffix=\".py\", dir=ruta_destino, prefix=nombre_archivo, delete=False) as temp_file:\n",
        "        # Escribir el código en el archivo temporal\n",
        "        temp_file.write(codigo.encode())\n",
        "\n",
        "    # Devolver la ruta del archivo temporal\n",
        "    return temp_file.name\n",
        "\n",
        "# Carpeta para guardar los archivos temporales\n",
        "carpeta_destino = \"/content/drive/MyDrive/Colab Notebooks/Entrenamiento IA/Datos temporales de Entrenamiento\"\n",
        "\n",
        "# Nombre del archivo temporal que deseas especificar\n",
        "nombre_archivo_temporal = \"Pro_S_SARS_CoV_2_\"\n",
        "\n",
        "# Guardar el código de entrenamiento en un archivo temporal dentro de la carpeta de destino\n",
        "ruta_archivo_temporal = guardar_codigo_temporal(codigo_entrenamiento, carpeta_destino, nombre_archivo_temporal)\n",
        "\n",
        "print(\"Código de entrenamiento guardado en:\", ruta_archivo_temporal)"
      ],
      "metadata": {
        "colab": {
          "base_uri": "https://localhost:8080/"
        },
        "id": "44hcWCsPyR8s",
        "outputId": "0ec1942a-7bf8-46ed-95c9-999cc23fee7c"
      },
      "execution_count": null,
      "outputs": [
        {
          "output_type": "stream",
          "name": "stdout",
          "text": [
            "Código de entrenamiento guardado en: /content/drive/MyDrive/Colab Notebooks/Entrenamiento IA/Datos temporales de Entrenamiento/Pro_S_SARS_CoV_2_dndb374f.py\n"
          ]
        }
      ]
    }
  ],
  "metadata": {
    "colab": {
      "provenance": []
    },
    "kernelspec": {
      "display_name": "Python 3",
      "name": "python3"
    },
    "language_info": {
      "name": "python"
    }
  },
  "nbformat": 4,
  "nbformat_minor": 0
}